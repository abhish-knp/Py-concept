{
 "cells": [
  {
   "cell_type": "code",
   "execution_count": 2,
   "metadata": {},
   "outputs": [
    {
     "data": {
      "text/plain": [
       "[' a b c',\n",
       " ' a b C',\n",
       " ' a B c',\n",
       " ' a B C',\n",
       " ' A b c',\n",
       " ' A b C',\n",
       " ' A B c',\n",
       " ' A B C']"
      ]
     },
     "execution_count": 2,
     "metadata": {},
     "output_type": "execute_result"
    }
   ],
   "source": [
    "# List operations \n",
    "allPossibleCase = [a + b + c for a in [' a',' A']\n",
    "                    for b in [' b', ' B']\n",
    "                    for c in [' c',' C']]\n",
    "allPossibleCase"
   ]
  },
  {
   "cell_type": "code",
   "execution_count": 7,
   "metadata": {},
   "outputs": [
    {
     "name": "stdout",
     "output_type": "stream",
     "text": [
      "The original list is : [1, 3, 5, 6, 3, 5, 6, 1]\n",
      "Repeated elements in the list:  [1, 3, 5, 6]\n",
      "New List of Duplicate elements:  [1, 3, 5, 6]\n",
      "List after removing duplicates:  [1, 3, 5, 6]\n"
     ]
    }
   ],
   "source": [
    "# Remove the duplicates:\n",
    "\n",
    "# Method 1:\n",
    "test_list = [1, 3, 5, 6, 3, 5, 6, 1]\n",
    "print (\"The original list is : \" +  str(test_list))\n",
    "\n",
    "res = []\n",
    "for i in test_list:\n",
    "    if i not in res:\n",
    "        res.append(i)\n",
    "print('Repeated elements in the list: ', res)\n",
    "\n",
    "# Method 2: List Comprehension\n",
    "res1 = []\n",
    "[res1.append(x) for x in test_list if x not in res1]\n",
    "print(\"New List of Duplicate elements: \", res1)\n",
    "\n",
    "# Method 3: Using set method\n",
    "print(\"List after removing duplicates: \", list(set(test_list)))\n"
   ]
  },
  {
   "cell_type": "code",
   "execution_count": 18,
   "metadata": {},
   "outputs": [
    {
     "name": "stdout",
     "output_type": "stream",
     "text": [
      "The original list is : [1, 4, 4, 4, 5, 6, 7, 4, 3, 3, 9]\n",
      "After removal of repeated element:  [1, 4, 5, 6, 7, 4, 3, 9]\n"
     ]
    }
   ],
   "source": [
    "# Remove cosecutive duplicates from list:\n",
    "\n",
    "# Groupby method\n",
    "from itertools import groupby \n",
    "test_list = [1, 4, 4, 4, 5, 6, 7, 4, 3, 3, 9]\n",
    "print (\"The original list is : \" + str(test_list))\n",
    "res = [i[0] for i in groupby(test_list)]\n",
    "print('After removal of repeated element: ',res)"
   ]
  },
  {
   "cell_type": "code",
   "execution_count": 15,
   "metadata": {},
   "outputs": [
    {
     "name": "stdout",
     "output_type": "stream",
     "text": [
      "1 [1, 1, 1]\n",
      "3 [3, 3]\n",
      "2 [2, 2, 2]\n",
      "1 [1, 1]\n"
     ]
    }
   ],
   "source": [
    "# This is how itertools works: \n",
    "numbers = [1, 1, 1, 3, 3, 2, 2, 2, 1, 1]\n",
    "import itertools\n",
    "for (key,group) in itertools.groupby(numbers):\n",
    "    print (key,list(group))"
   ]
  },
  {
   "cell_type": "code",
   "execution_count": 16,
   "metadata": {},
   "outputs": [
    {
     "name": "stdout",
     "output_type": "stream",
     "text": [
      "ab\n"
     ]
    }
   ],
   "source": [
    "# To remove remove repeated element from string\n",
    "\n",
    "from itertools import groupby\n",
    "def removeAllConsecutive(input):\n",
    "    \n",
    "     result = []\n",
    "     for (key,group) in groupby(input):\n",
    "          result.append(key)\n",
    "  \n",
    "     print (''.join(result))\n",
    "       \n",
    "# Driver program\n",
    "if __name__ == \"__main__\":\n",
    "    input = 'aaaaabbbbbb'\n",
    "    removeAllConsecutive(input)"
   ]
  },
  {
   "cell_type": "code",
   "execution_count": 19,
   "metadata": {},
   "outputs": [
    {
     "name": "stdout",
     "output_type": "stream",
     "text": [
      "Sorted array in ascending order:  [-9, -2, 0, 11, 45]\n"
     ]
    }
   ],
   "source": [
    "# Bubble Sort Algorithm\n",
    "\n",
    "def BubbleSort(array):\n",
    "    for i in range(len(array)):\n",
    "        for j in range(0, len(array) - i -1):\n",
    "            if array[j] > array[j+1]:\n",
    "                temp = array[j]\n",
    "                array[j] = array[j+1]\n",
    "                array[j+1] = temp\n",
    "data = [-2, 45, 0, 11, -9]\n",
    "BubbleSort(data)\n",
    "print(\"Sorted array in ascending order: \", data)"
   ]
  },
  {
   "cell_type": "code",
   "execution_count": 22,
   "metadata": {},
   "outputs": [
    {
     "name": "stdout",
     "output_type": "stream",
     "text": [
      "6\n",
      "3\n",
      "4\n",
      "This is 5\n",
      "6\n"
     ]
    }
   ],
   "source": [
    "# While and break loop practice:\n",
    "n = 0\n",
    "while(n<=10):\n",
    "    if(n==6):\n",
    "        print(n)\n",
    "        break\n",
    "    n = n + 2\n",
    "\n",
    "# for and continue: without continue, it will print \"This is 5\" and the 5.\n",
    "for i in range(3,7):\n",
    "    if(i==5):\n",
    "        print(\"This is 5\")\n",
    "        continue\n",
    "    print(i)"
   ]
  },
  {
   "cell_type": "code",
   "execution_count": 23,
   "metadata": {},
   "outputs": [
    {
     "name": "stdout",
     "output_type": "stream",
     "text": [
      "The Factorial of 6 is:  720\n"
     ]
    }
   ],
   "source": [
    "# Factorial function\n",
    "def facto(x):\n",
    "    if x == 1:\n",
    "        return 1\n",
    "    else:\n",
    "        return (x*facto(x-1))\n",
    "print(\"The Factorial of 6 is: \", facto(6))"
   ]
  },
  {
   "cell_type": "code",
   "execution_count": 24,
   "metadata": {},
   "outputs": [
    {
     "name": "stdout",
     "output_type": "stream",
     "text": [
      "Fabonacci of 5 is:  5\n"
     ]
    }
   ],
   "source": [
    "# Fabbonacci series \n",
    "def fabbonacci(x):\n",
    "    if x == 1 or x == 2:\n",
    "        return 1\n",
    "    else: \n",
    "        return fabbonacci(x-1) + fabbonacci(x-2)\n",
    "print(\"Fabonacci of 5 is: \", fabbonacci(5))"
   ]
  },
  {
   "cell_type": "code",
   "execution_count": 28,
   "metadata": {},
   "outputs": [
    {
     "name": "stdout",
     "output_type": "stream",
     "text": [
      "Addition of two numbers is:  17\n",
      "Using Filter:  [4, 6, 8, 12]\n",
      "Use of Map Function:  [2, 6, 5, 7, 9, 12, 4, 13]\n",
      "Filter with Map:  [8, 10, 13, 14]\n"
     ]
    }
   ],
   "source": [
    "# lambda, filter and map function\n",
    "\n",
    "additionOfTwoNumber = lambda x,y : x + y\n",
    "print(\"Addition of two numbers is: \",additionOfTwoNumber(8,9))\n",
    "\n",
    "listofNum = [1, 5, 4, 6, 8, 11, 3, 12]\n",
    "listOfEvens = list(filter(lambda x: (x%2 == 0), listofNum))\n",
    "print(\"Using Filter: \", listOfEvens)\n",
    "\n",
    "listOfAddOne = list(map(lambda x: x+1, listofNum))\n",
    "print(\"Use of Map Function: \", listOfAddOne)\n",
    "\n",
    "listOfMapFilter = list(filter(lambda x:x>7, map(lambda x:x +2,listofNum)))\n",
    "print(\"Filter with Map: \", listOfMapFilter)"
   ]
  },
  {
   "cell_type": "code",
   "execution_count": 29,
   "metadata": {},
   "outputs": [
    {
     "data": {
      "text/plain": [
       "['12', '11', '10']"
      ]
     },
     "execution_count": 29,
     "metadata": {},
     "output_type": "execute_result"
    }
   ],
   "source": [
    "# Import re for regex, to find the digits\n",
    "import re\n",
    "p = re.compile(r'\\d+')\n",
    "p.findall('12 drummers drumming, 11 pipers piping, 10 lords a-leaping')"
   ]
  },
  {
   "cell_type": "code",
   "execution_count": 32,
   "metadata": {},
   "outputs": [
    {
     "name": "stdout",
     "output_type": "stream",
     "text": [
      "Access element by key:  Abhish\n",
      "Access element by get():  ball\n",
      "{'name': 'Abhish', 2: 'ball', 'Car': 'Ford Fiasta'}\n"
     ]
    }
   ],
   "source": [
    "# Dict Methods\n",
    "my_dict = {'name': 'Abhish',2:'ball'}\n",
    "print(\"Access element by key: \",my_dict['name'])\n",
    "print(\"Access element by get(): \",my_dict.get(2))\n",
    "# add items in dict\n",
    "my_dict['Car'] = 'Ford Fiasta'\n",
    "print(my_dict)"
   ]
  },
  {
   "cell_type": "code",
   "execution_count": 46,
   "metadata": {},
   "outputs": [
    {
     "name": "stdout",
     "output_type": "stream",
     "text": [
      "{'Math': 0, 'English': 0, 'Science': 0}\n",
      "{0: 0, 1: 1, 2: 4, 3: 9, 4: 16, 5: 25}\n",
      "{0: 'A', 1: 'b', 2: 'C'}\n",
      "{'Name': 'Abhishek', 'Age': 28, 'Subject': 'Math'}\n",
      "Checking 28 is in dict:  False\n",
      "Checking Name is in dict:  True\n",
      "Checking Math is in dict:  False\n"
     ]
    }
   ],
   "source": [
    "marks = {}.fromkeys(['Math','English','Science'],0)\n",
    "print(marks)\n",
    "\n",
    "# Dict Comprehension\n",
    "squares = {x: x*x for x in range(6)}\n",
    "print(squares)\n",
    "\n",
    "element = [\"A\",\"b\",\"C\"]\n",
    "OddSquares = {x: element[x] for x in range(3)}\n",
    "print(OddSquares)\n",
    "\n",
    "# Zip method:\n",
    "a = (\"Name\",\"Age\",\"Subject\")\n",
    "b = (\"Abhishek\",28,\"Math\")\n",
    "x = dict(zip(a, b))\n",
    "print(x)\n",
    "\n",
    "# Membership Test: checks the key of dict\n",
    "print(\"Checking 28 is in dict: \",28 in x)\n",
    "print(\"Checking Name is in dict: \",'Name' in x)\n",
    "print(\"Checking Math is in dict: \",'Math' in x)"
   ]
  },
  {
   "cell_type": "code",
   "execution_count": 50,
   "metadata": {},
   "outputs": [
    {
     "name": "stdout",
     "output_type": "stream",
     "text": [
      "Is there any element:  False\n",
      "Is there any element:  True\n",
      "[(0, 'Python'), (1, 'Java'), (2, 'JavaScript')]\n",
      "0 bread\n",
      "1 milk\n",
      "2 butter\n",
      "\n",
      "\n",
      "100 bread\n",
      "101 milk\n",
      "102 butter\n"
     ]
    }
   ],
   "source": [
    "# Built-in function: any(), enumerate(), slice(), all()\n",
    "\n",
    "# any(): check atleast atleast a item\n",
    "emptyList = []\n",
    "garbageList = [\"Dust\", \"Bin\"]\n",
    "print(\"Is there any element: \", any(emptyList))\n",
    "print(\"Is there any element: \", any(garbageList))\n",
    "\n",
    "# enumerate: to add a counter to iterable and return it\n",
    "languages = ['Python', 'Java', 'JavaScript']\n",
    "enumerate_prime = enumerate(languages)\n",
    "print(list(enumerate_prime))\n",
    "\n",
    "grocery = ['bread', 'milk', 'butter']\n",
    "\n",
    "for count, item in enumerate(grocery):\n",
    "  print(count, item)\n",
    "\n",
    "print('\\n')\n",
    "for count, item in enumerate(grocery, 100):\n",
    "  print(count, item)"
   ]
  },
  {
   "cell_type": "code",
   "execution_count": 51,
   "metadata": {},
   "outputs": [
    {
     "name": "stdout",
     "output_type": "stream",
     "text": [
      "['P', 'y', 't']\n",
      "('y', 'h')\n"
     ]
    }
   ],
   "source": [
    "# slice(): return a slice object.\n",
    "py_list = ['P', 'y', 't', 'h', 'o', 'n']\n",
    "py_tuple = ('P', 'y', 't', 'h', 'o', 'n')\n",
    "\n",
    "slice_object = slice(3)\n",
    "print(py_list[slice_object]) # ['P', 'y', 't']\n",
    "\n",
    "slice_object = slice(1, 5, 2)\n",
    "print(py_tuple[slice_object]) # ('y', 'h')    "
   ]
  },
  {
   "cell_type": "code",
   "execution_count": 52,
   "metadata": {},
   "outputs": [
    {
     "name": "stdout",
     "output_type": "stream",
     "text": [
      "[('x', 3), ('y', 4), ('z', 5)]\n",
      "c = ('x', 'y', 'z')\n",
      "v = (3, 4, 5)\n"
     ]
    }
   ],
   "source": [
    "# zip(): \n",
    "coordinate = ['x', 'y', 'z']\n",
    "value = [3, 4, 5]\n",
    "\n",
    "# unzipping the sequence\n",
    "result = zip(coordinate, value)\n",
    "result_list = list(result)\n",
    "print(result_list)\n",
    "\n",
    "c, v =  zip(*result_list)\n",
    "print('c =', c)\n",
    "print('v =', v)"
   ]
  },
  {
   "cell_type": "code",
   "execution_count": 55,
   "metadata": {},
   "outputs": [
    {
     "name": "stdout",
     "output_type": "stream",
     "text": [
      "Is there No False element:  True\n",
      "Is there No False element:  False\n"
     ]
    }
   ],
   "source": [
    "# all(): return false if one or more false element found\n",
    "l = [1, 3, 4, 5]\n",
    "print(\"Is there No False element: \",all(l))\n",
    "\n",
    "l = [0, False]\n",
    "print(\"Is there No False element: \",all(l))\n"
   ]
  },
  {
   "cell_type": "code",
   "execution_count": null,
   "metadata": {},
   "outputs": [],
   "source": []
  }
 ],
 "metadata": {
  "interpreter": {
   "hash": "f7e022b67859ae4a791bbcc1c75bde8b3a5bef3b9abb0060fdb4399d638fb2f6"
  },
  "kernelspec": {
   "display_name": "Python 3.9.12 64-bit",
   "language": "python",
   "name": "python3"
  },
  "language_info": {
   "codemirror_mode": {
    "name": "ipython",
    "version": 3
   },
   "file_extension": ".py",
   "mimetype": "text/x-python",
   "name": "python",
   "nbconvert_exporter": "python",
   "pygments_lexer": "ipython3",
   "version": "3.9.12"
  },
  "orig_nbformat": 4
 },
 "nbformat": 4,
 "nbformat_minor": 2
}
