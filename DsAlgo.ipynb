{
 "cells": [
  {
   "cell_type": "code",
   "execution_count": 1,
   "metadata": {},
   "outputs": [],
   "source": [
    "# Concept of Decorator: Used for wrapping function of function.\n",
    "# There are 2-3 methods of implementing it."
   ]
  },
  {
   "cell_type": "code",
   "execution_count": 15,
   "metadata": {},
   "outputs": [
    {
     "name": "stdout",
     "output_type": "stream",
     "text": [
      "we got 2 and 3\n",
      "5\n",
      "...\n",
      "we got 9 and 4\n",
      "Lets Substract\n",
      "5\n",
      "...\n"
     ]
    }
   ],
   "source": [
    "def Outside(func1):\n",
    "    def Inside(a,b):\n",
    "        print(f'here we got two no. {a} and {b}')\n",
    "        func1(a,b)\n",
    "        print('Thanks')\n",
    "    return Inside\n",
    "\n",
    "# implement decorator in function.\n",
    "@Outside\n",
    "def addition(a,b):\n",
    "    print()\n",
    "    print(a + b)\n",
    "addition(2,3)\n",
    "\n",
    "\n",
    "@Outside\n",
    "def substraction(a,b):\n",
    "    print('Lets Substract')\n",
    "    print(a - b)\n",
    "\n",
    "substraction(9,4)\n"
   ]
  },
  {
   "cell_type": "code",
   "execution_count": null,
   "metadata": {},
   "outputs": [],
   "source": [
    "# Class concepts\n",
    "# Here we are going to use concept of multiple inheritance and multi-level inheritane\n",
    "# how to declare public and private properties within class.\n"
   ]
  },
  {
   "cell_type": "code",
   "execution_count": 25,
   "metadata": {},
   "outputs": [
    {
     "name": "stdout",
     "output_type": "stream",
     "text": [
      "Model name of: Bionic14 and Processor: 64 pins\n"
     ]
    }
   ],
   "source": [
    "# Example of CPU Cabinet for oops, with multilevel inheritance\n",
    "class IC:\n",
    "    __model = 'Bionic14'\n",
    "    __pins = 64\n",
    "    Genration = '3rd gen'\n",
    "\n",
    "    def __init__(self, IcName, Outputpin):\n",
    "        self.icname = IcName\n",
    "        self.outputpin = Outputpin\n",
    "    \n",
    "    def describe():\n",
    "        print(f'Genration of IC is {self.Genration}, {self.__model}.')\n",
    "\n",
    "class Motherboard(IC):\n",
    "    __processor = 'A12'\n",
    "    Genration = '4th gen'\n",
    "\n",
    "class Cabinet(Motherboard):\n",
    "    model = 'Windows Model'\n",
    "    OS = 'Windows'\n",
    "    Genration = '4th gen'\n",
    "\n",
    "Intel = IC('intel i5 chip','128 pin')\n",
    "RazorX = Motherboard('Ragex 5','64 pins')\n",
    "HP3350 = Cabinet('Glass Model','Input/Output')\n",
    "\n",
    "print(f'Model name of: {Intel._IC__model} and Processor: {RazorX.outputpin}')\n",
    "\n"
   ]
  },
  {
   "cell_type": "code",
   "execution_count": 26,
   "metadata": {},
   "outputs": [],
   "source": [
    "# Use of super().__init__ function, reuse the variable.\n",
    "# Use the classmethods: @property, @setter, @deleter and abstract class.\n"
   ]
  },
  {
   "cell_type": "code",
   "execution_count": null,
   "metadata": {},
   "outputs": [],
   "source": [
    "class Company():\n",
    "    def __init__(self,fname,lname):\n",
    "        self.fname = fname\n",
    "        self.lname = lname\n",
    "    \n",
    "    @property\n",
    "    def email(self):\n",
    "        if self.fname == None or self.lname == None:\n",
    "            return('Email is not set up.')\n",
    "        print(f'Email ID: {self.fname}.{self.lname}@jobs.in')\n",
    "        return f'{self.fname}.{self.lname}@jobs.in'\n",
    "    \n",
    "    @email.setter\n",
    "    def email(self, string):"
   ]
  }
 ],
 "metadata": {
  "interpreter": {
   "hash": "f7e022b67859ae4a791bbcc1c75bde8b3a5bef3b9abb0060fdb4399d638fb2f6"
  },
  "kernelspec": {
   "display_name": "Python 3.9.12 64-bit",
   "language": "python",
   "name": "python3"
  },
  "language_info": {
   "codemirror_mode": {
    "name": "ipython",
    "version": 3
   },
   "file_extension": ".py",
   "mimetype": "text/x-python",
   "name": "python",
   "nbconvert_exporter": "python",
   "pygments_lexer": "ipython3",
   "version": "3.9.12"
  },
  "orig_nbformat": 4
 },
 "nbformat": 4,
 "nbformat_minor": 2
}
